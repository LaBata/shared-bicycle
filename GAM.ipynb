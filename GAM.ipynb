{
 "cells": [
  {
   "cell_type": "code",
   "execution_count": 1,
   "id": "31b8e48b",
   "metadata": {
    "scrolled": true
   },
   "outputs": [],
   "source": [
    "import pandas as pd        \n",
    "from pygam import LogisticGAM\n",
    "from pygam import PoissonGAM\n",
    "from pygam import GammaGAM\n",
    "from matplotlib import pyplot as plt\n",
    "import numpy as np\n",
    "from sklearn.model_selection import train_test_split\n",
    "from sklearn.metrics import accuracy_score\n",
    "from sklearn.metrics import log_loss"
   ]
  },
  {
   "cell_type": "code",
   "execution_count": 65,
   "id": "9358e5ac",
   "metadata": {},
   "outputs": [],
   "source": [
    "df = pd.read_csv(\"D:/house_work/excel表/WM回归.csv\")"
   ]
  },
  {
   "cell_type": "code",
   "execution_count": 243,
   "id": "92aadeb6",
   "metadata": {
    "scrolled": false
   },
   "outputs": [
    {
     "data": {
      "text/html": [
       "<div>\n",
       "<style scoped>\n",
       "    .dataframe tbody tr th:only-of-type {\n",
       "        vertical-align: middle;\n",
       "    }\n",
       "\n",
       "    .dataframe tbody tr th {\n",
       "        vertical-align: top;\n",
       "    }\n",
       "\n",
       "    .dataframe thead th {\n",
       "        text-align: right;\n",
       "    }\n",
       "</style>\n",
       "<table border=\"1\" class=\"dataframe\">\n",
       "  <thead>\n",
       "    <tr style=\"text-align: right;\">\n",
       "      <th></th>\n",
       "      <th>num</th>\n",
       "      <th>restaurant</th>\n",
       "      <th>spot</th>\n",
       "      <th>facilities</th>\n",
       "      <th>companies</th>\n",
       "      <th>shopping</th>\n",
       "      <th>hospital</th>\n",
       "      <th>junction</th>\n",
       "      <th>diversity</th>\n",
       "      <th>population</th>\n",
       "      <th>bus</th>\n",
       "    </tr>\n",
       "  </thead>\n",
       "  <tbody>\n",
       "    <tr>\n",
       "      <th>0</th>\n",
       "      <td>0.043972</td>\n",
       "      <td>0.000000</td>\n",
       "      <td>0.000</td>\n",
       "      <td>0.000000</td>\n",
       "      <td>0.001241</td>\n",
       "      <td>0.000000</td>\n",
       "      <td>0.000000</td>\n",
       "      <td>0.096525</td>\n",
       "      <td>0.000000</td>\n",
       "      <td>0.000000</td>\n",
       "      <td>0.000000</td>\n",
       "    </tr>\n",
       "    <tr>\n",
       "      <th>1</th>\n",
       "      <td>0.004255</td>\n",
       "      <td>0.000000</td>\n",
       "      <td>0.000</td>\n",
       "      <td>0.000000</td>\n",
       "      <td>0.001241</td>\n",
       "      <td>0.000000</td>\n",
       "      <td>0.000000</td>\n",
       "      <td>0.115830</td>\n",
       "      <td>0.000000</td>\n",
       "      <td>0.000000</td>\n",
       "      <td>0.000000</td>\n",
       "    </tr>\n",
       "    <tr>\n",
       "      <th>2</th>\n",
       "      <td>0.000000</td>\n",
       "      <td>0.018692</td>\n",
       "      <td>0.000</td>\n",
       "      <td>0.000000</td>\n",
       "      <td>0.018610</td>\n",
       "      <td>0.000000</td>\n",
       "      <td>0.025424</td>\n",
       "      <td>0.073359</td>\n",
       "      <td>0.666975</td>\n",
       "      <td>0.027847</td>\n",
       "      <td>0.153846</td>\n",
       "    </tr>\n",
       "    <tr>\n",
       "      <th>3</th>\n",
       "      <td>0.000000</td>\n",
       "      <td>0.002336</td>\n",
       "      <td>0.000</td>\n",
       "      <td>0.000000</td>\n",
       "      <td>0.004963</td>\n",
       "      <td>0.000000</td>\n",
       "      <td>0.000000</td>\n",
       "      <td>0.050193</td>\n",
       "      <td>0.359198</td>\n",
       "      <td>0.079374</td>\n",
       "      <td>0.000000</td>\n",
       "    </tr>\n",
       "    <tr>\n",
       "      <th>4</th>\n",
       "      <td>0.007801</td>\n",
       "      <td>0.051402</td>\n",
       "      <td>0.000</td>\n",
       "      <td>0.047619</td>\n",
       "      <td>0.075682</td>\n",
       "      <td>0.090909</td>\n",
       "      <td>0.033898</td>\n",
       "      <td>0.189189</td>\n",
       "      <td>0.653775</td>\n",
       "      <td>0.252615</td>\n",
       "      <td>0.153846</td>\n",
       "    </tr>\n",
       "    <tr>\n",
       "      <th>...</th>\n",
       "      <td>...</td>\n",
       "      <td>...</td>\n",
       "      <td>...</td>\n",
       "      <td>...</td>\n",
       "      <td>...</td>\n",
       "      <td>...</td>\n",
       "      <td>...</td>\n",
       "      <td>...</td>\n",
       "      <td>...</td>\n",
       "      <td>...</td>\n",
       "      <td>...</td>\n",
       "    </tr>\n",
       "    <tr>\n",
       "      <th>164</th>\n",
       "      <td>0.885106</td>\n",
       "      <td>0.971963</td>\n",
       "      <td>0.625</td>\n",
       "      <td>0.952381</td>\n",
       "      <td>0.926799</td>\n",
       "      <td>1.000000</td>\n",
       "      <td>1.000000</td>\n",
       "      <td>0.351351</td>\n",
       "      <td>0.773634</td>\n",
       "      <td>0.526249</td>\n",
       "      <td>0.923077</td>\n",
       "    </tr>\n",
       "    <tr>\n",
       "      <th>165</th>\n",
       "      <td>0.000000</td>\n",
       "      <td>0.161215</td>\n",
       "      <td>0.250</td>\n",
       "      <td>0.190476</td>\n",
       "      <td>0.031017</td>\n",
       "      <td>0.151515</td>\n",
       "      <td>0.177966</td>\n",
       "      <td>0.239382</td>\n",
       "      <td>0.899169</td>\n",
       "      <td>0.069817</td>\n",
       "      <td>0.461538</td>\n",
       "    </tr>\n",
       "    <tr>\n",
       "      <th>166</th>\n",
       "      <td>0.000709</td>\n",
       "      <td>0.000000</td>\n",
       "      <td>0.500</td>\n",
       "      <td>0.095238</td>\n",
       "      <td>0.003722</td>\n",
       "      <td>0.000000</td>\n",
       "      <td>0.000000</td>\n",
       "      <td>0.111969</td>\n",
       "      <td>0.761503</td>\n",
       "      <td>0.119317</td>\n",
       "      <td>0.384615</td>\n",
       "    </tr>\n",
       "    <tr>\n",
       "      <th>167</th>\n",
       "      <td>0.077305</td>\n",
       "      <td>0.046729</td>\n",
       "      <td>0.125</td>\n",
       "      <td>0.238095</td>\n",
       "      <td>0.014888</td>\n",
       "      <td>0.030303</td>\n",
       "      <td>0.186441</td>\n",
       "      <td>0.096525</td>\n",
       "      <td>1.000000</td>\n",
       "      <td>0.113748</td>\n",
       "      <td>0.076923</td>\n",
       "    </tr>\n",
       "    <tr>\n",
       "      <th>168</th>\n",
       "      <td>0.031206</td>\n",
       "      <td>0.025701</td>\n",
       "      <td>0.000</td>\n",
       "      <td>0.095238</td>\n",
       "      <td>0.000000</td>\n",
       "      <td>0.000000</td>\n",
       "      <td>0.000000</td>\n",
       "      <td>0.054054</td>\n",
       "      <td>0.308176</td>\n",
       "      <td>0.051803</td>\n",
       "      <td>0.153846</td>\n",
       "    </tr>\n",
       "  </tbody>\n",
       "</table>\n",
       "<p>169 rows × 11 columns</p>\n",
       "</div>"
      ],
      "text/plain": [
       "          num  restaurant   spot  facilities  companies  shopping  hospital  \\\n",
       "0    0.043972    0.000000  0.000    0.000000   0.001241  0.000000  0.000000   \n",
       "1    0.004255    0.000000  0.000    0.000000   0.001241  0.000000  0.000000   \n",
       "2    0.000000    0.018692  0.000    0.000000   0.018610  0.000000  0.025424   \n",
       "3    0.000000    0.002336  0.000    0.000000   0.004963  0.000000  0.000000   \n",
       "4    0.007801    0.051402  0.000    0.047619   0.075682  0.090909  0.033898   \n",
       "..        ...         ...    ...         ...        ...       ...       ...   \n",
       "164  0.885106    0.971963  0.625    0.952381   0.926799  1.000000  1.000000   \n",
       "165  0.000000    0.161215  0.250    0.190476   0.031017  0.151515  0.177966   \n",
       "166  0.000709    0.000000  0.500    0.095238   0.003722  0.000000  0.000000   \n",
       "167  0.077305    0.046729  0.125    0.238095   0.014888  0.030303  0.186441   \n",
       "168  0.031206    0.025701  0.000    0.095238   0.000000  0.000000  0.000000   \n",
       "\n",
       "     junction  diversity  population       bus  \n",
       "0    0.096525   0.000000    0.000000  0.000000  \n",
       "1    0.115830   0.000000    0.000000  0.000000  \n",
       "2    0.073359   0.666975    0.027847  0.153846  \n",
       "3    0.050193   0.359198    0.079374  0.000000  \n",
       "4    0.189189   0.653775    0.252615  0.153846  \n",
       "..        ...        ...         ...       ...  \n",
       "164  0.351351   0.773634    0.526249  0.923077  \n",
       "165  0.239382   0.899169    0.069817  0.461538  \n",
       "166  0.111969   0.761503    0.119317  0.384615  \n",
       "167  0.096525   1.000000    0.113748  0.076923  \n",
       "168  0.054054   0.308176    0.051803  0.153846  \n",
       "\n",
       "[169 rows x 11 columns]"
      ]
     },
     "execution_count": 243,
     "metadata": {},
     "output_type": "execute_result"
    }
   ],
   "source": [
    "df"
   ]
  },
  {
   "cell_type": "code",
   "execution_count": 66,
   "id": "e9de1b9e",
   "metadata": {},
   "outputs": [],
   "source": [
    "X = df[['restaurant', 'spot', 'facility', 'company','shopping', 'hospital', 'junction', 'diversity', 'population', 'bus']]\n",
    "# X = df[['junction', 'diversity', 'population', 'bus']]\n",
    "num_df = pd.Series(df.num)\n",
    "y = num_df"
   ]
  },
  {
   "cell_type": "code",
   "execution_count": 53,
   "id": "e81d1905",
   "metadata": {},
   "outputs": [],
   "source": [
    "X = df[['junction', 'diversity', 'population', 'bus']]\n",
    "y = num_df"
   ]
  },
  {
   "cell_type": "code",
   "execution_count": 6,
   "id": "c9212533",
   "metadata": {},
   "outputs": [
    {
     "data": {
      "text/html": [
       "<div>\n",
       "<style scoped>\n",
       "    .dataframe tbody tr th:only-of-type {\n",
       "        vertical-align: middle;\n",
       "    }\n",
       "\n",
       "    .dataframe tbody tr th {\n",
       "        vertical-align: top;\n",
       "    }\n",
       "\n",
       "    .dataframe thead th {\n",
       "        text-align: right;\n",
       "    }\n",
       "</style>\n",
       "<table border=\"1\" class=\"dataframe\">\n",
       "  <thead>\n",
       "    <tr style=\"text-align: right;\">\n",
       "      <th></th>\n",
       "      <th>restaurant</th>\n",
       "      <th>spot</th>\n",
       "      <th>facilities</th>\n",
       "      <th>companies</th>\n",
       "      <th>shopping</th>\n",
       "      <th>hospital</th>\n",
       "      <th>junction</th>\n",
       "      <th>diversity</th>\n",
       "      <th>population</th>\n",
       "      <th>bus</th>\n",
       "    </tr>\n",
       "  </thead>\n",
       "  <tbody>\n",
       "    <tr>\n",
       "      <th>0</th>\n",
       "      <td>0.000000</td>\n",
       "      <td>0.000</td>\n",
       "      <td>0.000000</td>\n",
       "      <td>0.001241</td>\n",
       "      <td>0.000000</td>\n",
       "      <td>0.000000</td>\n",
       "      <td>0.096525</td>\n",
       "      <td>0.000000</td>\n",
       "      <td>0.000000</td>\n",
       "      <td>0.000000</td>\n",
       "    </tr>\n",
       "    <tr>\n",
       "      <th>1</th>\n",
       "      <td>0.000000</td>\n",
       "      <td>0.000</td>\n",
       "      <td>0.000000</td>\n",
       "      <td>0.001241</td>\n",
       "      <td>0.000000</td>\n",
       "      <td>0.000000</td>\n",
       "      <td>0.115830</td>\n",
       "      <td>0.000000</td>\n",
       "      <td>0.000000</td>\n",
       "      <td>0.000000</td>\n",
       "    </tr>\n",
       "    <tr>\n",
       "      <th>2</th>\n",
       "      <td>0.018692</td>\n",
       "      <td>0.000</td>\n",
       "      <td>0.000000</td>\n",
       "      <td>0.018610</td>\n",
       "      <td>0.000000</td>\n",
       "      <td>0.025424</td>\n",
       "      <td>0.073359</td>\n",
       "      <td>0.666975</td>\n",
       "      <td>0.027847</td>\n",
       "      <td>0.153846</td>\n",
       "    </tr>\n",
       "    <tr>\n",
       "      <th>3</th>\n",
       "      <td>0.002336</td>\n",
       "      <td>0.000</td>\n",
       "      <td>0.000000</td>\n",
       "      <td>0.004963</td>\n",
       "      <td>0.000000</td>\n",
       "      <td>0.000000</td>\n",
       "      <td>0.050193</td>\n",
       "      <td>0.359198</td>\n",
       "      <td>0.079374</td>\n",
       "      <td>0.000000</td>\n",
       "    </tr>\n",
       "    <tr>\n",
       "      <th>4</th>\n",
       "      <td>0.051402</td>\n",
       "      <td>0.000</td>\n",
       "      <td>0.047619</td>\n",
       "      <td>0.075682</td>\n",
       "      <td>0.090909</td>\n",
       "      <td>0.033898</td>\n",
       "      <td>0.189189</td>\n",
       "      <td>0.653775</td>\n",
       "      <td>0.252615</td>\n",
       "      <td>0.153846</td>\n",
       "    </tr>\n",
       "    <tr>\n",
       "      <th>...</th>\n",
       "      <td>...</td>\n",
       "      <td>...</td>\n",
       "      <td>...</td>\n",
       "      <td>...</td>\n",
       "      <td>...</td>\n",
       "      <td>...</td>\n",
       "      <td>...</td>\n",
       "      <td>...</td>\n",
       "      <td>...</td>\n",
       "      <td>...</td>\n",
       "    </tr>\n",
       "    <tr>\n",
       "      <th>164</th>\n",
       "      <td>0.971963</td>\n",
       "      <td>0.625</td>\n",
       "      <td>0.952381</td>\n",
       "      <td>0.926799</td>\n",
       "      <td>1.000000</td>\n",
       "      <td>1.000000</td>\n",
       "      <td>0.351351</td>\n",
       "      <td>0.773634</td>\n",
       "      <td>0.526249</td>\n",
       "      <td>0.923077</td>\n",
       "    </tr>\n",
       "    <tr>\n",
       "      <th>165</th>\n",
       "      <td>0.161215</td>\n",
       "      <td>0.250</td>\n",
       "      <td>0.190476</td>\n",
       "      <td>0.031017</td>\n",
       "      <td>0.151515</td>\n",
       "      <td>0.177966</td>\n",
       "      <td>0.239382</td>\n",
       "      <td>0.899169</td>\n",
       "      <td>0.069817</td>\n",
       "      <td>0.461538</td>\n",
       "    </tr>\n",
       "    <tr>\n",
       "      <th>166</th>\n",
       "      <td>0.000000</td>\n",
       "      <td>0.500</td>\n",
       "      <td>0.095238</td>\n",
       "      <td>0.003722</td>\n",
       "      <td>0.000000</td>\n",
       "      <td>0.000000</td>\n",
       "      <td>0.111969</td>\n",
       "      <td>0.761503</td>\n",
       "      <td>0.119317</td>\n",
       "      <td>0.384615</td>\n",
       "    </tr>\n",
       "    <tr>\n",
       "      <th>167</th>\n",
       "      <td>0.046729</td>\n",
       "      <td>0.125</td>\n",
       "      <td>0.238095</td>\n",
       "      <td>0.014888</td>\n",
       "      <td>0.030303</td>\n",
       "      <td>0.186441</td>\n",
       "      <td>0.096525</td>\n",
       "      <td>1.000000</td>\n",
       "      <td>0.113748</td>\n",
       "      <td>0.076923</td>\n",
       "    </tr>\n",
       "    <tr>\n",
       "      <th>168</th>\n",
       "      <td>0.025701</td>\n",
       "      <td>0.000</td>\n",
       "      <td>0.095238</td>\n",
       "      <td>0.000000</td>\n",
       "      <td>0.000000</td>\n",
       "      <td>0.000000</td>\n",
       "      <td>0.054054</td>\n",
       "      <td>0.308176</td>\n",
       "      <td>0.051803</td>\n",
       "      <td>0.153846</td>\n",
       "    </tr>\n",
       "  </tbody>\n",
       "</table>\n",
       "<p>169 rows × 10 columns</p>\n",
       "</div>"
      ],
      "text/plain": [
       "     restaurant   spot  facilities  companies  shopping  hospital  junction  \\\n",
       "0      0.000000  0.000    0.000000   0.001241  0.000000  0.000000  0.096525   \n",
       "1      0.000000  0.000    0.000000   0.001241  0.000000  0.000000  0.115830   \n",
       "2      0.018692  0.000    0.000000   0.018610  0.000000  0.025424  0.073359   \n",
       "3      0.002336  0.000    0.000000   0.004963  0.000000  0.000000  0.050193   \n",
       "4      0.051402  0.000    0.047619   0.075682  0.090909  0.033898  0.189189   \n",
       "..          ...    ...         ...        ...       ...       ...       ...   \n",
       "164    0.971963  0.625    0.952381   0.926799  1.000000  1.000000  0.351351   \n",
       "165    0.161215  0.250    0.190476   0.031017  0.151515  0.177966  0.239382   \n",
       "166    0.000000  0.500    0.095238   0.003722  0.000000  0.000000  0.111969   \n",
       "167    0.046729  0.125    0.238095   0.014888  0.030303  0.186441  0.096525   \n",
       "168    0.025701  0.000    0.095238   0.000000  0.000000  0.000000  0.054054   \n",
       "\n",
       "     diversity  population       bus  \n",
       "0     0.000000    0.000000  0.000000  \n",
       "1     0.000000    0.000000  0.000000  \n",
       "2     0.666975    0.027847  0.153846  \n",
       "3     0.359198    0.079374  0.000000  \n",
       "4     0.653775    0.252615  0.153846  \n",
       "..         ...         ...       ...  \n",
       "164   0.773634    0.526249  0.923077  \n",
       "165   0.899169    0.069817  0.461538  \n",
       "166   0.761503    0.119317  0.384615  \n",
       "167   1.000000    0.113748  0.076923  \n",
       "168   0.308176    0.051803  0.153846  \n",
       "\n",
       "[169 rows x 10 columns]"
      ]
     },
     "execution_count": 6,
     "metadata": {},
     "output_type": "execute_result"
    }
   ],
   "source": [
    "X"
   ]
  },
  {
   "cell_type": "code",
   "execution_count": 246,
   "id": "b02b97f1",
   "metadata": {
    "scrolled": true
   },
   "outputs": [
    {
     "data": {
      "text/plain": [
       "0      0.043972\n",
       "1      0.004255\n",
       "2      0.000000\n",
       "3      0.000000\n",
       "4      0.007801\n",
       "         ...   \n",
       "164    0.885106\n",
       "165    0.000000\n",
       "166    0.000709\n",
       "167    0.077305\n",
       "168    0.031206\n",
       "Name: num, Length: 169, dtype: float64"
      ]
     },
     "execution_count": 246,
     "metadata": {},
     "output_type": "execute_result"
    }
   ],
   "source": [
    "y"
   ]
  },
  {
   "cell_type": "code",
   "execution_count": 9,
   "id": "8c0bbb79",
   "metadata": {
    "scrolled": true
   },
   "outputs": [
    {
     "name": "stdout",
     "output_type": "stream",
     "text": [
      "did not converge\n"
     ]
    }
   ],
   "source": [
    "#Fit a model with the default parameters\n",
    "gam = PoissonGAM().fit(X, y)"
   ]
  },
  {
   "cell_type": "code",
   "execution_count": 248,
   "id": "08eb44cb",
   "metadata": {
    "scrolled": true
   },
   "outputs": [
    {
     "name": "stdout",
     "output_type": "stream",
     "text": [
      "PoissonGAM                                                                                                \n",
      "=============================================== ==========================================================\n",
      "Distribution:                       PoissonDist Effective DoF:                                     36.6303\n",
      "Link Function:                          LogLink Log Likelihood:                                   -32.1226\n",
      "Number of Samples:                          169 AIC:                                              137.5057\n",
      "                                                AICc:                                             159.8064\n",
      "                                                UBRE:                                               2.6893\n",
      "                                                Scale:                                                 1.0\n",
      "                                                Pseudo R-Squared:                                   0.6421\n",
      "==========================================================================================================\n",
      "Feature Function                  Lambda               Rank         EDoF         P > x        Sig. Code   \n",
      "================================= ==================== ============ ============ ============ ============\n",
      "s(0)                              [0.6]                20                        1.00e+00                 \n",
      "s(1)                              [0.6]                20                        1.00e+00                 \n",
      "s(2)                              [0.6]                20                        1.00e+00                 \n",
      "s(3)                              [0.6]                20                        1.00e+00                 \n",
      "s(4)                              [0.6]                20                        1.00e+00                 \n",
      "s(5)                              [0.6]                20                        1.00e+00                 \n",
      "s(6)                              [0.6]                20                        8.13e-01                 \n",
      "s(7)                              [0.6]                20                        1.00e+00                 \n",
      "s(8)                              [0.6]                20                        1.00e+00                 \n",
      "s(9)                              [0.6]                20                        9.97e-01                 \n",
      "intercept                                              1                         2.74e-02     *           \n",
      "==========================================================================================================\n",
      "Significance codes:  0 '***' 0.001 '**' 0.01 '*' 0.05 '.' 0.1 ' ' 1\n",
      "\n",
      "WARNING: Fitting splines and a linear function to a feature introduces a model identifiability problem\n",
      "         which can cause p-values to appear significant when they are not.\n",
      "\n",
      "WARNING: p-values calculated in this manner behave correctly for un-penalized models or models with\n",
      "         known smoothing parameters, but when smoothing parameters have been estimated, the p-values\n",
      "         are typically lower than they should be, meaning that the tests reject the null too readily.\n"
     ]
    },
    {
     "name": "stderr",
     "output_type": "stream",
     "text": [
      "C:\\Users\\Ng_HC\\AppData\\Local\\Temp\\ipykernel_16868\\3358381670.py:1: UserWarning: KNOWN BUG: p-values computed in this summary are likely much smaller than they should be. \n",
      " \n",
      "Please do not make inferences based on these values! \n",
      "\n",
      "Collaborate on a solution, and stay up to date at: \n",
      "github.com/dswah/pyGAM/issues/163 \n",
      "\n",
      "  gam.summary()\n"
     ]
    }
   ],
   "source": [
    "gam.summary()"
   ]
  },
  {
   "cell_type": "code",
   "execution_count": 41,
   "id": "484f0cb6",
   "metadata": {},
   "outputs": [],
   "source": [
    "# feature_names = ['junction', 'diversity', 'population', 'bus']\n",
    "feature_names = ['restaurant', 'spot', 'facility', 'company','shopping', 'hospital', 'junction', 'diversity', 'population', 'bus']"
   ]
  },
  {
   "cell_type": "code",
   "execution_count": 186,
   "id": "5e6643e4",
   "metadata": {},
   "outputs": [
    {
     "data": {
      "text/plain": [
       "['restaurant',\n",
       " 'spot',\n",
       " 'facilities',\n",
       " 'companies',\n",
       " 'shopping',\n",
       " 'hospital',\n",
       " 'junction',\n",
       " 'diversity',\n",
       " 'population',\n",
       " 'bus']"
      ]
     },
     "execution_count": 186,
     "metadata": {},
     "output_type": "execute_result"
    }
   ],
   "source": [
    "feature_names"
   ]
  },
  {
   "cell_type": "code",
   "execution_count": 8,
   "id": "545c6e89",
   "metadata": {},
   "outputs": [
    {
     "ename": "NameError",
     "evalue": "name 'gam' is not defined",
     "output_type": "error",
     "traceback": [
      "\u001b[1;31m---------------------------------------------------------------------------\u001b[0m",
      "\u001b[1;31mNameError\u001b[0m                                 Traceback (most recent call last)",
      "Cell \u001b[1;32mIn[8], line 6\u001b[0m\n\u001b[0;32m      3\u001b[0m titles \u001b[38;5;241m=\u001b[39m feature_names\n\u001b[0;32m      5\u001b[0m \u001b[38;5;28;01mfor\u001b[39;00m i, ax \u001b[38;5;129;01min\u001b[39;00m \u001b[38;5;28menumerate\u001b[39m(axs):\n\u001b[1;32m----> 6\u001b[0m     XX \u001b[38;5;241m=\u001b[39m \u001b[43mgam\u001b[49m\u001b[38;5;241m.\u001b[39mgenerate_X_grid(term\u001b[38;5;241m=\u001b[39mi)\n\u001b[0;32m      7\u001b[0m     ax\u001b[38;5;241m.\u001b[39mplot(XX[:, i], gam\u001b[38;5;241m.\u001b[39mpartial_dependence(term\u001b[38;5;241m=\u001b[39mi, X\u001b[38;5;241m=\u001b[39mXX))\n\u001b[0;32m      8\u001b[0m     ax\u001b[38;5;241m.\u001b[39mplot(XX[:, i], gam\u001b[38;5;241m.\u001b[39mpartial_dependence(term\u001b[38;5;241m=\u001b[39mi, X\u001b[38;5;241m=\u001b[39mXX,   width\u001b[38;5;241m=\u001b[39m\u001b[38;5;241m.95\u001b[39m)[\u001b[38;5;241m1\u001b[39m], c\u001b[38;5;241m=\u001b[39m\u001b[38;5;124m'\u001b[39m\u001b[38;5;124mr\u001b[39m\u001b[38;5;124m'\u001b[39m, ls\u001b[38;5;241m=\u001b[39m\u001b[38;5;124m'\u001b[39m\u001b[38;5;124m--\u001b[39m\u001b[38;5;124m'\u001b[39m)\n",
      "\u001b[1;31mNameError\u001b[0m: name 'gam' is not defined"
     ]
    },
    {
     "data": {
      "image/png": "[encoded data removed]",
      "text/plain": [
       "<Figure size 2800x800 with 10 Axes>"
      ]
     },
     "metadata": {},
     "output_type": "display_data"
    }
   ],
   "source": [
    "plt.rcParams['figure.figsize'] = (28, 8)\n",
    "fig, axs = plt.subplots(1, len(feature_names[0:10]))\n",
    "titles = feature_names\n",
    "\n",
    "for i, ax in enumerate(axs):\n",
    "    XX = gam.generate_X_grid(term=i)\n",
    "    ax.plot(XX[:, i], gam.partial_dependence(term=i, X=XX))\n",
    "    ax.plot(XX[:, i], gam.partial_dependence(term=i, X=XX,   width=.95)[1], c='r', ls='--')\n",
    "    ax.set_title(titles[i])\n",
    "plt.show()"
   ]
  },
  {
   "cell_type": "code",
   "execution_count": 47,
   "id": "9134bc69",
   "metadata": {},
   "outputs": [
    {
     "name": "stdout",
     "output_type": "stream",
     "text": [
      "company       0.464030\n",
      "junction      0.426477\n",
      "facility      0.417077\n",
      "restaurant    0.412731\n",
      "shopping      0.386931\n",
      "hospital      0.360018\n",
      "spot          0.311261\n",
      "bus           0.288547\n",
      "population    0.047500\n",
      "diversity     0.032490\n",
      "dtype: float64\n"
     ]
    }
   ],
   "source": [
    "# 相关性分析\n",
    "# 计算特征与目标变量之间的相关性\n",
    "correlations = X.corrwith(y)\n",
    "print(correlations.sort_values(ascending=False))\n"
   ]
  },
  {
   "cell_type": "code",
   "execution_count": 50,
   "id": "2c0a6b3b",
   "metadata": {},
   "outputs": [
    {
     "name": "stdout",
     "output_type": "stream",
     "text": [
      "[0.18341446 0.02588699 0.03975131 0.11591204 0.05491218 0.04498262\n",
      " 0.30495043 0.07432156 0.09244421 0.06342419]\n"
     ]
    }
   ],
   "source": [
    "# 使用随机森林评估特征重要性：\n",
    "from sklearn.ensemble import RandomForestRegressor\n",
    "\n",
    "# 使用随机森林模型\n",
    "model = RandomForestRegressor()\n",
    "model.fit(X, y)\n",
    "\n",
    "# 获取特征重要性\n",
    "feature_importances = model.feature_importances_\n",
    "print(feature_importances)\n",
    "\n",
    "# 可视化特征重要性\n",
    "import matplotlib.pyplot as plt\n",
    "\n",
    "features = X.columns\n",
    "indices = np.argsort(feature_importances)[::-1]\n",
    "\n",
    "plt.title('Feature Importances')\n",
    "plt.barh(range(len(indices)), feature_importances[indices], color='b', align='center')\n",
    "plt.yticks(range(len(indices)), [features[i] for i in indices])\n",
    "plt.xlabel('Relative Importance')\n",
    "plt.show()\n"
   ]
  },
  {
   "cell_type": "code",
   "execution_count": 49,
   "id": "d971cf6c",
   "metadata": {},
   "outputs": [
    {
     "name": "stdout",
     "output_type": "stream",
     "text": [
      "Selected features:  Index(['restaurant', 'company', 'junction', 'diversity', 'population'], dtype='object')\n"
     ]
    }
   ],
   "source": [
    "# 递归特征消除（RFE）：\n",
    "from sklearn.feature_selection import RFE\n",
    "\n",
    "# 创建RFE对象，并选择数量最多的5个重要特征\n",
    "rfe = RFE(estimator=RandomForestRegressor(), n_features_to_select=5)\n",
    "rfe.fit(X, y)\n",
    "\n",
    "# 打印被选中的特征\n",
    "selected_features = X.columns[rfe.support_]\n",
    "print(\"Selected features: \", selected_features)\n"
   ]
  },
  {
   "cell_type": "code",
   "execution_count": 54,
   "id": "e7cbd4ad",
   "metadata": {
    "scrolled": true
   },
   "outputs": [
    {
     "name": "stdout",
     "output_type": "stream",
     "text": [
      "{'lam': 0.1, 'n_splines': 5}\n"
     ]
    }
   ],
   "source": [
    "# 进行交叉验证网格搜索\n",
    "from sklearn.model_selection import GridSearchCV\n",
    "from pygam import PoissonGAM\n",
    "\n",
    "# 假设 selected_features 是前面特征选择步骤选择的特征\n",
    "X_selected = X[selected_features]\n",
    "\n",
    "param_grid = {\n",
    "    'lam': [0.1, 1, 10, 100],\n",
    "    'n_splines': [5, 10, 15, 20]\n",
    "}\n",
    "\n",
    "gam = PoissonGAM()\n",
    "grid_search = GridSearchCV(estimator=gam, param_grid=param_grid, cv=5)\n",
    "grid_search.fit(X_selected, y)\n",
    "\n",
    "best_params = grid_search.best_params_\n",
    "print(\"Best parameters: \", best_params)"
   ]
  },
  {
   "cell_type": "code",
   "execution_count": 55,
   "id": "0a677441",
   "metadata": {},
   "outputs": [],
   "source": [
    "# 使用最佳参数训练模型\n",
    "best_gam = PoissonGAM(lam=best_params['lam'], n_splines=best_params['n_splines']).fit(X_selected, y)\n",
    "\n",
    "plt.rcParams['figure.figsize'] = (28, 8)\n",
    "fig, axs = plt.subplots(1, len(selected_features))\n",
    "\n",
    "# 更新标题为所选特征\n",
    "titles = selected_features\n",
    "\n",
    "for i, ax in enumerate(axs):\n",
    "    XX = best_gam.generate_X_grid(term=i)\n",
    "    ax.plot(XX[:, i], best_gam.partial_dependence(term=i, X=XX))\n",
    "    ax.plot(XX[:, i], best_gam.partial_dependence(term=i, X=XX, width=.95)[1], c='r', ls='--')\n",
    "    ax.set_title(titles[i])\n",
    "\n",
    "plt.show()\n"
   ]
  },
  {
   "cell_type": "code",
   "execution_count": 56,
   "id": "90d610c9",
   "metadata": {},
   "outputs": [
    {
     "name": "stdout",
     "output_type": "stream",
     "text": [
      "PoissonGAM                                                                                                \n",
      "=============================================== ==========================================================\n",
      "Distribution:                       PoissonDist Effective DoF:                                      9.1319\n",
      "Link Function:                          LogLink Log Likelihood:                                   -39.1627\n",
      "Number of Samples:                          169 AIC:                                               96.5891\n",
      "                                                AICc:                                               98.018\n",
      "                                                UBRE:                                               2.2884\n",
      "                                                Scale:                                                 1.0\n",
      "                                                Pseudo R-Squared:                                   0.4044\n",
      "==========================================================================================================\n",
      "Feature Function                  Lambda               Rank         EDoF         P > x        Sig. Code   \n",
      "================================= ==================== ============ ============ ============ ============\n",
      "s(0)                              [0.1]                5            3.1          6.49e-01                 \n",
      "s(1)                              [0.1]                5            1.9          9.05e-01                 \n",
      "s(2)                              [0.1]                5            1.5          1.58e-01                 \n",
      "s(3)                              [0.1]                5            1.3          1.00e+00                 \n",
      "s(4)                              [0.1]                5            1.4          9.68e-01                 \n",
      "intercept                                              1            0.0          1.63e-01                 \n",
      "==========================================================================================================\n",
      "Significance codes:  0 '***' 0.001 '**' 0.01 '*' 0.05 '.' 0.1 ' ' 1\n",
      "\n",
      "WARNING: Fitting splines and a linear function to a feature introduces a model identifiability problem\n",
      "         which can cause p-values to appear significant when they are not.\n",
      "\n",
      "WARNING: p-values calculated in this manner behave correctly for un-penalized models or models with\n",
      "         known smoothing parameters, but when smoothing parameters have been estimated, the p-values\n",
      "         are typically lower than they should be, meaning that the tests reject the null too readily.\n"
     ]
    },
    {
     "name": "stderr",
     "output_type": "stream",
     "text": [
      "C:\\Users\\Ng_HC\\AppData\\Local\\Temp\\ipykernel_20152\\3496505661.py:1: UserWarning: KNOWN BUG: p-values computed in this summary are likely much smaller than they should be. \n",
      " \n",
      "Please do not make inferences based on these values! \n",
      "\n",
      "Collaborate on a solution, and stay up to date at: \n",
      "github.com/dswah/pyGAM/issues/163 \n",
      "\n",
      "  best_gam.summary()\n"
     ]
    }
   ],
   "source": [
    "best_gam.summary()"
   ]
  },
  {
   "cell_type": "code",
   "execution_count": 67,
   "id": "29c66ea3",
   "metadata": {},
   "outputs": [],
   "source": [
    "lambda_ = 0.6\n",
    "n_splines = [10, 10, 10, 10, 10, 10, 10, 10, 10, 10]\n",
    "constraints = None\n",
    "gam = PoissonGAM(constraints=constraints,\n",
    "          lam=lambda_,\n",
    "         n_splines=n_splines).fit(X, y)"
   ]
  },
  {
   "cell_type": "code",
   "execution_count": 63,
   "id": "ab482836",
   "metadata": {},
   "outputs": [
    {
     "name": "stdout",
     "output_type": "stream",
     "text": [
      "PoissonGAM                                                                                                \n",
      "=============================================== ==========================================================\n",
      "Distribution:                       PoissonDist Effective DoF:                                     27.4069\n",
      "Link Function:                          LogLink Log Likelihood:                                   -34.4403\n",
      "Number of Samples:                          169 AIC:                                              123.6943\n",
      "                                                AICc:                                             135.6628\n",
      "                                                UBRE:                                               2.5536\n",
      "                                                Scale:                                                 1.0\n",
      "                                                Pseudo R-Squared:                                   0.5676\n",
      "==========================================================================================================\n",
      "Feature Function                  Lambda               Rank         EDoF         P > x        Sig. Code   \n",
      "================================= ==================== ============ ============ ============ ============\n",
      "s(0)                              [0.6]                10           6.9          8.92e-01                 \n",
      "s(1)                              [0.6]                10           4.5          9.99e-01                 \n",
      "s(2)                              [0.6]                10           3.7          1.00e+00                 \n",
      "s(3)                              [0.6]                10           3.3          1.00e+00                 \n",
      "s(4)                              [0.6]                10           1.5          9.78e-01                 \n",
      "s(5)                              [0.6]                10           1.8          9.53e-01                 \n",
      "s(6)                              [0.6]                10           1.4          4.69e-01                 \n",
      "s(7)                              [0.6]                10           1.8          1.00e+00                 \n",
      "s(8)                              [0.6]                10           1.4          9.99e-01                 \n",
      "s(9)                              [0.6]                10           1.0          9.87e-01                 \n",
      "intercept                                              1            0.0          1.49e-01                 \n",
      "==========================================================================================================\n",
      "Significance codes:  0 '***' 0.001 '**' 0.01 '*' 0.05 '.' 0.1 ' ' 1\n",
      "\n",
      "WARNING: Fitting splines and a linear function to a feature introduces a model identifiability problem\n",
      "         which can cause p-values to appear significant when they are not.\n",
      "\n",
      "WARNING: p-values calculated in this manner behave correctly for un-penalized models or models with\n",
      "         known smoothing parameters, but when smoothing parameters have been estimated, the p-values\n",
      "         are typically lower than they should be, meaning that the tests reject the null too readily.\n"
     ]
    },
    {
     "name": "stderr",
     "output_type": "stream",
     "text": [
      "C:\\Users\\Ng_HC\\AppData\\Local\\Temp\\ipykernel_20152\\3358381670.py:1: UserWarning: KNOWN BUG: p-values computed in this summary are likely much smaller than they should be. \n",
      " \n",
      "Please do not make inferences based on these values! \n",
      "\n",
      "Collaborate on a solution, and stay up to date at: \n",
      "github.com/dswah/pyGAM/issues/163 \n",
      "\n",
      "  gam.summary()\n"
     ]
    }
   ],
   "source": [
    "gam.summary()"
   ]
  },
  {
   "cell_type": "code",
   "execution_count": 3,
   "id": "ec303a96",
   "metadata": {},
   "outputs": [],
   "source": [
    "%matplotlib qt"
   ]
  },
  {
   "cell_type": "code",
   "execution_count": 68,
   "id": "12d407cd",
   "metadata": {},
   "outputs": [],
   "source": [
    "plt.rcParams['figure.figsize'] = (28, 8)\n",
    "fig, axs = plt.subplots(1, len(feature_names[0:10]))\n",
    "titles = feature_names\n",
    "\n",
    "for i, ax in enumerate(axs):\n",
    "    XX = gam.generate_X_grid(term=i)\n",
    "    ax.plot(XX[:, i], gam.partial_dependence(term=i, X=XX))\n",
    "    ax.plot(XX[:, i], gam.partial_dependence(term=i, X=XX,   width=.95)[1], c='r', ls='--')\n",
    "    ax.set_title(titles[i])\n",
    "\n",
    "plt.show()"
   ]
  },
  {
   "cell_type": "code",
   "execution_count": 254,
   "id": "902abfeb",
   "metadata": {
    "scrolled": false
   },
   "outputs": [
    {
     "name": "stdout",
     "output_type": "stream",
     "text": [
      "PoissonGAM                                                                                                \n",
      "=============================================== ==========================================================\n",
      "Distribution:                       PoissonDist Effective DoF:                                     27.4069\n",
      "Link Function:                          LogLink Log Likelihood:                                   -34.4403\n",
      "Number of Samples:                          169 AIC:                                              123.6943\n",
      "                                                AICc:                                             135.6628\n",
      "                                                UBRE:                                               2.5536\n",
      "                                                Scale:                                                 1.0\n",
      "                                                Pseudo R-Squared:                                   0.5676\n",
      "==========================================================================================================\n",
      "Feature Function                  Lambda               Rank         EDoF         P > x        Sig. Code   \n",
      "================================= ==================== ============ ============ ============ ============\n",
      "s(0)                              [0.6]                10           6.9          8.92e-01                 \n",
      "s(1)                              [0.6]                10           4.5          9.99e-01                 \n",
      "s(2)                              [0.6]                10           3.7          1.00e+00                 \n",
      "s(3)                              [0.6]                10           3.3          1.00e+00                 \n",
      "s(4)                              [0.6]                10           1.5          9.78e-01                 \n",
      "s(5)                              [0.6]                10           1.8          9.53e-01                 \n",
      "s(6)                              [0.6]                10           1.4          4.69e-01                 \n",
      "s(7)                              [0.6]                10           1.8          1.00e+00                 \n",
      "s(8)                              [0.6]                10           1.4          9.99e-01                 \n",
      "s(9)                              [0.6]                10           1.0          9.87e-01                 \n",
      "intercept                                              1            0.0          1.49e-01                 \n",
      "==========================================================================================================\n",
      "Significance codes:  0 '***' 0.001 '**' 0.01 '*' 0.05 '.' 0.1 ' ' 1\n",
      "\n",
      "WARNING: Fitting splines and a linear function to a feature introduces a model identifiability problem\n",
      "         which can cause p-values to appear significant when they are not.\n",
      "\n",
      "WARNING: p-values calculated in this manner behave correctly for un-penalized models or models with\n",
      "         known smoothing parameters, but when smoothing parameters have been estimated, the p-values\n",
      "         are typically lower than they should be, meaning that the tests reject the null too readily.\n"
     ]
    },
    {
     "name": "stderr",
     "output_type": "stream",
     "text": [
      "C:\\Users\\Ng_HC\\AppData\\Local\\Temp\\ipykernel_16868\\3358381670.py:1: UserWarning: KNOWN BUG: p-values computed in this summary are likely much smaller than they should be. \n",
      " \n",
      "Please do not make inferences based on these values! \n",
      "\n",
      "Collaborate on a solution, and stay up to date at: \n",
      "github.com/dswah/pyGAM/issues/163 \n",
      "\n",
      "  gam.summary()\n"
     ]
    }
   ],
   "source": [
    "gam.summary()"
   ]
  },
  {
   "cell_type": "code",
   "execution_count": 127,
   "id": "63f2f0d6",
   "metadata": {},
   "outputs": [],
   "source": [
    "# 首先是分离训练集和测试机。\n",
    "X_train, X_test, y_train, y_test = train_test_split(X, y, test_size=0.33, random_state=42)"
   ]
  },
  {
   "cell_type": "code",
   "execution_count": 106,
   "id": "5dbf608b",
   "metadata": {
    "scrolled": true
   },
   "outputs": [
    {
     "name": "stderr",
     "output_type": "stream",
     "text": [
      "100% (11 of 11) |########################| Elapsed Time: 0:00:00 Time:  0:00:00\n"
     ]
    }
   ],
   "source": [
    "# 通过gridsearch来自动选择参数。默认参数是一个字典类型的lam，{‘lam’:np.logspace(-3,3,11)}\n",
    "gam = PoissonGAM().gridsearch(X_train.values, y_train.values)"
   ]
  },
  {
   "cell_type": "code",
   "execution_count": 142,
   "id": "ca8914ae",
   "metadata": {},
   "outputs": [],
   "source": [
    "predictions = gam.predict(X_test)\n",
    "# print(\"Accuracy: {} \".format(accuracy_score(y_test, predictions)))\n",
    "probas = gam.predict_mu(X_test)\n",
    "# print(\"Log Loss: {} \".format(log_loss(y_test, probas)))"
   ]
  },
  {
   "cell_type": "code",
   "execution_count": 145,
   "id": "cd295bc0",
   "metadata": {},
   "outputs": [
    {
     "ename": "AttributeError",
     "evalue": "'PoissonGAM' object has no attribute 'score'",
     "output_type": "error",
     "traceback": [
      "\u001b[1;31m---------------------------------------------------------------------------\u001b[0m",
      "\u001b[1;31mAttributeError\u001b[0m                            Traceback (most recent call last)",
      "Input \u001b[1;32mIn [145]\u001b[0m, in \u001b[0;36m<cell line: 1>\u001b[1;34m()\u001b[0m\n\u001b[1;32m----> 1\u001b[0m score \u001b[38;5;241m=\u001b[39m \u001b[43mgam\u001b[49m\u001b[38;5;241;43m.\u001b[39;49m\u001b[43mscore\u001b[49m(X_test, y_test)\n",
      "File \u001b[1;32m~\\anaconda3\\lib\\site-packages\\pygam\\terms.py:1027\u001b[0m, in \u001b[0;36mMetaTermMixin.__getattr__\u001b[1;34m(self, name)\u001b[0m\n\u001b[0;32m   1024\u001b[0m         values\u001b[38;5;241m.\u001b[39mappend(\u001b[38;5;28mgetattr\u001b[39m(term, name, \u001b[38;5;28;01mNone\u001b[39;00m))\n\u001b[0;32m   1025\u001b[0m     \u001b[38;5;28;01mreturn\u001b[39;00m values\n\u001b[1;32m-> 1027\u001b[0m \u001b[38;5;28;01mreturn\u001b[39;00m \u001b[38;5;28;43mself\u001b[39;49m\u001b[38;5;241;43m.\u001b[39;49m\u001b[43m_super_get\u001b[49m\u001b[43m(\u001b[49m\u001b[43mname\u001b[49m\u001b[43m)\u001b[49m\n",
      "File \u001b[1;32m~\\anaconda3\\lib\\site-packages\\pygam\\terms.py:948\u001b[0m, in \u001b[0;36mMetaTermMixin._super_get\u001b[1;34m(self, name)\u001b[0m\n\u001b[0;32m    947\u001b[0m \u001b[38;5;28;01mdef\u001b[39;00m \u001b[38;5;21m_super_get\u001b[39m(\u001b[38;5;28mself\u001b[39m, name):\n\u001b[1;32m--> 948\u001b[0m     \u001b[38;5;28;01mreturn\u001b[39;00m \u001b[38;5;28;43msuper\u001b[39;49m\u001b[43m(\u001b[49m\u001b[43mMetaTermMixin\u001b[49m\u001b[43m,\u001b[49m\u001b[43m \u001b[49m\u001b[38;5;28;43mself\u001b[39;49m\u001b[43m)\u001b[49m\u001b[38;5;241;43m.\u001b[39;49m\u001b[38;5;21;43m__getattribute__\u001b[39;49m\u001b[43m(\u001b[49m\u001b[43mname\u001b[49m\u001b[43m)\u001b[49m\n",
      "\u001b[1;31mAttributeError\u001b[0m: 'PoissonGAM' object has no attribute 'score'"
     ]
    }
   ],
   "source": [
    "score = gam.score(X_test, y_test)"
   ]
  },
  {
   "cell_type": "code",
   "execution_count": 143,
   "id": "a27fa6c7",
   "metadata": {
    "scrolled": false
   },
   "outputs": [
    {
     "data": {
      "text/plain": [
       "array([0.13174219, 0.04627299, 0.40940429, 0.09774164, 0.07632593,\n",
       "       0.23730935, 0.21733264, 0.28906305, 0.09067606, 0.15204271,\n",
       "       0.1000394 , 0.11775396, 0.06050647, 0.14207983, 0.15554796,\n",
       "       0.26431038, 0.14319754, 0.13786909, 0.1057936 , 0.10958089,\n",
       "       0.02619549, 0.13072098, 0.08437538, 0.08803895, 0.13770328,\n",
       "       0.08931103, 0.10723376, 0.07515236, 0.24449668, 0.10170045,\n",
       "       0.07475913, 0.16380031, 0.16461363, 0.15933954, 0.06834349,\n",
       "       0.10670314, 0.11426147, 0.05052888, 0.1004356 , 0.08633616,\n",
       "       0.20380765, 0.14307432, 0.29601789, 0.14196217, 0.11068036,\n",
       "       0.26494086, 0.08799708, 0.17837025, 0.05689211, 0.03555056,\n",
       "       0.30675406, 0.15259885])"
      ]
     },
     "execution_count": 143,
     "metadata": {},
     "output_type": "execute_result"
    }
   ],
   "source": [
    "predictions"
   ]
  },
  {
   "cell_type": "code",
   "execution_count": 144,
   "id": "15639d83",
   "metadata": {},
   "outputs": [
    {
     "data": {
      "text/plain": [
       "array([0.13174219, 0.04627299, 0.40940429, 0.09774164, 0.07632593,\n",
       "       0.23730935, 0.21733264, 0.28906305, 0.09067606, 0.15204271,\n",
       "       0.1000394 , 0.11775396, 0.06050647, 0.14207983, 0.15554796,\n",
       "       0.26431038, 0.14319754, 0.13786909, 0.1057936 , 0.10958089,\n",
       "       0.02619549, 0.13072098, 0.08437538, 0.08803895, 0.13770328,\n",
       "       0.08931103, 0.10723376, 0.07515236, 0.24449668, 0.10170045,\n",
       "       0.07475913, 0.16380031, 0.16461363, 0.15933954, 0.06834349,\n",
       "       0.10670314, 0.11426147, 0.05052888, 0.1004356 , 0.08633616,\n",
       "       0.20380765, 0.14307432, 0.29601789, 0.14196217, 0.11068036,\n",
       "       0.26494086, 0.08799708, 0.17837025, 0.05689211, 0.03555056,\n",
       "       0.30675406, 0.15259885])"
      ]
     },
     "execution_count": 144,
     "metadata": {},
     "output_type": "execute_result"
    }
   ],
   "source": [
    "probas"
   ]
  },
  {
   "cell_type": "code",
   "execution_count": null,
   "id": "3e25c523",
   "metadata": {},
   "outputs": [],
   "source": [
    "import pandas as pd        \n",
    "from pygam import LogisticGAM\n",
    "from pygam import PoissonGAM\n",
    "from pygam import GammaGAM\n",
    "from matplotlib import pyplot as plt\n",
    "import numpy as np\n",
    "from sklearn.model_selection import train_test_split\n",
    "from sklearn.metrics import accuracy_score\n",
    "from sklearn.metrics import log_loss\n",
    "\n",
    "df = pd.read_csv(\"D:/house_work/excel表/WM回归.csv\")\n",
    "X = df[['restaurant', 'spot', 'facility', 'company','shopping', 'hospital', 'junction', 'diversity', 'population', 'bus']]\n",
    "# X = df[['junction', 'diversity', 'population', 'bus']]\n",
    "num_df = pd.Series(df.num)\n",
    "y = num_df\n",
    "\n",
    "#Fit a model with the default parameters\n",
    "gam = PoissonGAM().fit(X, y)\n",
    "\n",
    "# feature_names = ['junction', 'diversity', 'population', 'bus']\n",
    "feature_names = ['restaurant', 'spot', 'facility', 'company','shopping', 'hospital', 'junction', 'diversity', 'population', 'bus']\n",
    "\n",
    "plt.rcParams['figure.figsize'] = (28, 8)\n",
    "fig, axs = plt.subplots(1, len(feature_names[0:10]))\n",
    "titles = feature_names\n",
    "\n",
    "for i, ax in enumerate(axs):\n",
    "    XX = gam.generate_X_grid(term=i)\n",
    "    ax.plot(XX[:, i], gam.partial_dependence(term=i, X=XX))\n",
    "    ax.plot(XX[:, i], gam.partial_dependence(term=i, X=XX,   width=.95)[1], c='r', ls='--')\n",
    "    ax.set_title(titles[i])\n",
    "plt.show()\n",
    "\n",
    "lambda_ = 0.6\n",
    "n_splines = [10, 10, 10, 10, 10, 10, 10, 10, 10, 10]\n",
    "constraints = None\n",
    "gam = PoissonGAM(constraints=constraints,\n",
    "          lam=lambda_,\n",
    "         n_splines=n_splines).fit(X, y)\n",
    "\n",
    "plt.rcParams['figure.figsize'] = (28, 8)\n",
    "fig, axs = plt.subplots(1, len(feature_names[0:10]))\n",
    "titles = feature_names\n",
    "\n",
    "for i, ax in enumerate(axs):\n",
    "    XX = gam.generate_X_grid(term=i)\n",
    "    ax.plot(XX[:, i], gam.partial_dependence(term=i, X=XX))\n",
    "    ax.plot(XX[:, i], gam.partial_dependence(term=i, X=XX,   width=.95)[1], c='r', ls='--')\n",
    "    ax.set_title(titles[i])\n",
    "\n",
    "plt.show()"
   ]
  },
  {
   "cell_type": "markdown",
   "id": "04ecd3b6",
   "metadata": {},
   "source": [
    "# 绘制箱型图"
   ]
  },
  {
   "cell_type": "code",
   "execution_count": 2,
   "id": "7896ac6a",
   "metadata": {
    "scrolled": true
   },
   "outputs": [
    {
     "data": {
      "image/png": "[encoded data removed]",
      "text/plain": [
       "<Figure size 1200x700 with 1 Axes>"
      ]
     },
     "metadata": {},
     "output_type": "display_data"
    }
   ],
   "source": [
    "# 调整数据以确保每个组的数据点数量相同\n",
    "# num_points_per_group = 9  # 每个组的数据点数量\n",
    "groups = ['0 - 50', '50 - 100', '100 - 150', '150 - 200', '200 - 250', \n",
    "          '250 - 300', '300 - 350', '350 - 400', '400 - 450', '450 - 500', \n",
    "          '500 - 550', '550 - 600', '600 - 650', '650 - 700', '700 - 750', \n",
    "          '750 - 800', '800 - 850', '850 - 900', '900 - 950', '950 - 1000']\n",
    "\n",
    "df = pd.read_csv(\"D:\\house_work\\excel表\\箱型图绘制.csv\")\n",
    "\n",
    "# 对组进行排序\n",
    "df['Group1'] = pd.Categorical(df['Group1'], categories=sorted(df['Group1'].unique(), key=lambda x: int(x.split(' - ')[0])), ordered=True)\n",
    "\n",
    "# 计算每个组的平均值和方差\n",
    "group_stats = df.groupby('Group1')['value'].agg(['mean', 'var']).reset_index()\n",
    "\n",
    "# 转换 Pandas Series 为 NumPy 数组\n",
    "mean_array = group_stats['mean'].to_numpy()\n",
    "variance_array = group_stats['var'].to_numpy()\n",
    "\n",
    "# 绘制箱形图\n",
    "plt.figure(figsize=(12, 7))\n",
    "boxplot_data = [df[df['Group1'] == group]['value'].to_numpy() for group in group_stats['Group1']]\n",
    "plt.boxplot(boxplot_data, labels=group_stats['Group1'])\n",
    "plt.xticks(rotation=45)\n",
    "plt.xlabel('Group Range (meters)')\n",
    "plt.ylabel('Value')\n",
    "plt.title('Boxplot of Values by Group Range with Mean and Variance Trends')\n",
    "\n",
    "# 添加表示平均值和方差变化的线（修正后的部分）\n",
    "plt.plot(range(1, len(groups) + 1), mean_array, label='Mean', color='blue', marker='o')  # 平均值线\n",
    "plt.plot(range(1, len(groups) + 1), variance_array, label='Variance', color='red', marker='o')  # 方差线\n",
    "\n",
    "# 调整图例位置\n",
    "plt.legend(loc='upper right')  # 将图例放置在图的右上角\n",
    "\n",
    "plt.show()"
   ]
  },
  {
   "cell_type": "code",
   "execution_count": 5,
   "id": "5af1f3c0",
   "metadata": {},
   "outputs": [
    {
     "name": "stderr",
     "output_type": "stream",
     "text": [
      "The PostScript backend does not support transparency; partially transparent artists will be rendered opaque.\n",
      "The PostScript backend does not support transparency; partially transparent artists will be rendered opaque.\n"
     ]
    }
   ],
   "source": [
    "import matplotlib.pyplot as plt\n",
    "import pandas as pd\n",
    "\n",
    "# 假设数据已经被加载到df中\n",
    "df = pd.read_csv(\"D:\\\\house_work\\\\excel表\\\\箱型图绘制.csv\")\n",
    "\n",
    "# 对组进行排序\n",
    "groups = ['0 - 50', '50 - 100', '100 - 150', '150 - 200', '200 - 250', \n",
    "          '250 - 300', '300 - 350', '350 - 400', '400 - 450', '450 - 500', \n",
    "          '500 - 550', '550 - 600', '600 - 650', '650 - 700', '700 - 750', \n",
    "          '750 - 800', '800 - 850', '850 - 900', '900 - 950', '950 - 1000']\n",
    "df['Group1'] = pd.Categorical(df['Group1'], categories=groups, ordered=True)\n",
    "\n",
    "# 计算每个组的统计数据\n",
    "group_stats = df.groupby('Group1')['value'].agg(['mean', 'var']).reset_index()\n",
    "\n",
    "# 确定每个组的whiskers\n",
    "whisker_low = df.groupby('Group1')['value'].apply(lambda x: x.quantile(0.25) - 1.5*(x.quantile(0.75) - x.quantile(0.25)))\n",
    "whisker_high = df.groupby('Group1')['value'].apply(lambda x: x.quantile(0.75) + 1.5*(x.quantile(0.75) - x.quantile(0.25)))\n",
    "\n",
    "# 过滤数据以移除离群值\n",
    "def filter_outliers(group):\n",
    "    return group[(group['value'] >= whisker_low[group.name]) & (group['value'] <= whisker_high[group.name])]\n",
    "\n",
    "filtered_df = df.groupby('Group1').apply(filter_outliers).reset_index(drop=True)\n",
    "\n",
    "# 绘制箱形图\n",
    "plt.figure(figsize=(12, 7))\n",
    "boxplot_data = [filtered_df[filtered_df['Group1'] == group]['value'].to_numpy() for group in groups]\n",
    "plt.boxplot(boxplot_data, labels=groups)\n",
    "plt.xticks(rotation=45)\n",
    "plt.xlabel('Group Range (meters)')\n",
    "plt.ylabel('Value')\n",
    "plt.title('Boxplot of Values by Group Range with Mean and Variance Trends')\n",
    "\n",
    "# 添加表示平均值和方差变化的线\n",
    "mean_array = group_stats['mean'].to_numpy()\n",
    "variance_array = group_stats['var'].to_numpy()\n",
    "plt.plot(range(1, len(groups) + 1), mean_array, label='Mean', color='orange', marker='o')  \n",
    "plt.plot(range(1, len(groups) + 1), variance_array, label='Variance', color='skyblue', marker='o')  \n",
    "\n",
    "# 调整图例位置\n",
    "plt.legend(loc='upper right')  \n",
    "\n",
    "plt.show()\n"
   ]
  },
  {
   "cell_type": "code",
   "execution_count": null,
   "id": "65fa6d7d",
   "metadata": {},
   "outputs": [],
   "source": []
  }
 ],
 "metadata": {
  "kernelspec": {
   "display_name": "myenv",
   "language": "python",
   "name": "myenv"
  },
  "language_info": {
   "codemirror_mode": {
    "name": "ipython",
    "version": 3
   },
   "file_extension": ".py",
   "mimetype": "text/x-python",
   "name": "python",
   "nbconvert_exporter": "python",
   "pygments_lexer": "ipython3",
   "version": "3.10.0"
  }
 },
 "nbformat": 4,
 "nbformat_minor": 5
}
